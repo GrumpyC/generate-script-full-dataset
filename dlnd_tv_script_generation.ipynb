{
 "cells": [
  {
   "cell_type": "markdown",
   "metadata": {},
   "source": [
    "# TV Script Generation\n",
    "In this project, you'll generate your own [Simpsons](https://en.wikipedia.org/wiki/The_Simpsons) TV scripts using RNNs.  You'll be using part of the [Simpsons dataset](https://www.kaggle.com/wcukierski/the-simpsons-by-the-data) of scripts from 27 seasons.  The Neural Network you'll build will generate a new TV script for a scene at [Moe's Tavern](https://simpsonswiki.com/wiki/Moe's_Tavern).\n",
    "## Get the Data\n",
    "The data is already provided for you.  You'll be using a subset of the original dataset.  It consists of only the scenes in Moe's Tavern.  This doesn't include other versions of the tavern, like \"Moe's Cavern\", \"Flaming Moe's\", \"Uncle Moe's Family Feed-Bag\", etc.."
   ]
  },
  {
   "cell_type": "code",
   "execution_count": 2,
   "metadata": {},
   "outputs": [
    {
     "name": "stdout",
     "output_type": "stream",
     "text": [
      "Edna Krabappel-Flanders: The polls will be open from now until the end of recess. Now, (SOUR) just in case any of you have decided to put any thought into this, we'll have our final statements. Martin?\n"
     ]
    }
   ],
   "source": [
    "\"\"\"\n",
    "DON'T MODIFY ANYTHING IN THIS CELL\n",
    "\"\"\"\n",
    "import helper\n",
    "import pandas as pd\n",
    "import io\n",
    "\n",
    "#data_dir = './data/simpsons/moes_tavern_lines.txt'\n",
    "#text = helper.load_data(data_dir)\n",
    "# Ignore notice, since we don't use it for analysing the data\n",
    "csv_file='./data/simpsons/simpsons_script_lines.csv'\n",
    "\n",
    "df = pd.read_csv(csv_file, error_bad_lines=False,\n",
    "                    warn_bad_lines=False,\n",
    "                    low_memory=False)\n",
    "\n",
    "text = df['raw_text']\n",
    "\n",
    "print (text[4])\n",
    "\n",
    "#This stores rawText column with raw text from the episopdes to txt file\n",
    "with io.open('./data/simpsons/rawText.txt', \"w\", encoding=\"utf-8\") as f:\n",
    "    for item in text:\n",
    "          f.write(\"%s\\n\" % item)\n",
    "\n",
    "f.close()"
   ]
  },
  {
   "cell_type": "markdown",
   "metadata": {},
   "source": [
    "## Explore the Data\n",
    "Play around with `view_sentence_range` to view different parts of the data."
   ]
  },
  {
   "cell_type": "code",
   "execution_count": 3,
   "metadata": {},
   "outputs": [
    {
     "name": "stdout",
     "output_type": "stream",
     "text": [
      "Dataset Stats\n",
      "Roughly the number of unique words: 136601\n",
      "Number of scenes: 1\n",
      "Average number of sentences in each scene: 158248.0\n",
      "Number of lines: 158249\n",
      "Average number of words in each line: 11.663283812219982\n",
      "\n",
      "The sentences 0 to 10:\n",
      "Miss Hoover: No, actually, it was a little of both. Sometimes when a disease is in all the magazines and all the news shows, it's only natural that you think you have it.\n",
      "Lisa Simpson: (NEAR TEARS) Where's Mr. Bergstrom?\n",
      "Miss Hoover: I don't know. Although I'd sure like to talk to him. He didn't touch my lesson plan. What did he teach you?\n",
      "Lisa Simpson: That life is worth living.\n",
      "Edna Krabappel-Flanders: The polls will be open from now until the end of recess. Now, (SOUR) just in case any of you have decided to put any thought into this, we'll have our final statements. Martin?\n",
      "Martin Prince: (HOARSE WHISPER) I don't think there's anything left to say.\n",
      "Edna Krabappel-Flanders: Bart?\n",
      "Bart Simpson: Victory party under the slide!\n",
      "(Apartment Building: Ext. apartment building - day)\n",
      "Lisa Simpson: (CALLING) Mr. Bergstrom! Mr. Bergstrom!\n"
     ]
    }
   ],
   "source": [
    "view_sentence_range = (0, 10)\n",
    "\n",
    "\"\"\"\n",
    "DON'T MODIFY ANYTHING IN THIS CELL\n",
    "\"\"\"\n",
    "import numpy as np\n",
    "import io\n",
    "\n",
    "with io.open('./data/simpsons/rawText.txt', \"r\", encoding=\"utf-8\") as f:\n",
    "    text = f.read()\n",
    "    \n",
    "print('Dataset Stats')\n",
    "print('Roughly the number of unique words: {}'.format(len({word: None for word in text.split()})))\n",
    "scenes = text.split('\\n\\n')\n",
    "print('Number of scenes: {}'.format(len(scenes)))\n",
    "sentence_count_scene = [scene.count('\\n') for scene in scenes]\n",
    "print('Average number of sentences in each scene: {}'.format(np.average(sentence_count_scene)))\n",
    "\n",
    "sentences = [sentence for scene in scenes for sentence in scene.split('\\n')]\n",
    "print('Number of lines: {}'.format(len(sentences)))\n",
    "word_count_sentence = [len(sentence.split()) for sentence in sentences]\n",
    "print('Average number of words in each line: {}'.format(np.average(word_count_sentence)))\n",
    "\n",
    "print()\n",
    "print('The sentences {} to {}:'.format(*view_sentence_range))\n",
    "print('\\n'.join(text.split('\\n')[view_sentence_range[0]:view_sentence_range[1]]))"
   ]
  },
  {
   "cell_type": "markdown",
   "metadata": {},
   "source": [
    "## Implement Preprocessing Functions\n",
    "The first thing to do to any dataset is preprocessing.  Implement the following preprocessing functions below:\n",
    "- Lookup Table\n",
    "- Tokenize Punctuation\n",
    "\n",
    "### Lookup Table\n",
    "To create a word embedding, you first need to transform the words to ids.  In this function, create two dictionaries:\n",
    "- Dictionary to go from the words to an id, we'll call `vocab_to_int`\n",
    "- Dictionary to go from the id to word, we'll call `int_to_vocab`\n",
    "\n",
    "Return these dictionaries in the following tuple `(vocab_to_int, int_to_vocab)`"
   ]
  },
  {
   "cell_type": "code",
   "execution_count": 4,
   "metadata": {},
   "outputs": [
    {
     "name": "stdout",
     "output_type": "stream",
     "text": [
      "Tests Passed\n"
     ]
    }
   ],
   "source": [
    "import numpy as np\n",
    "import problem_unittests as tests\n",
    "\n",
    "def create_lookup_tables(text):\n",
    "    \"\"\"\n",
    "    Create lookup tables for vocabulary\n",
    "    :param text: The text of tv scripts split into words\n",
    "    :return: A tuple of dicts (vocab_to_int, int_to_vocab)\n",
    "    \"\"\"\n",
    "    vocab = set(text)\n",
    "    vocab_to_int  = {word: ii for ii, word in enumerate(vocab)}\n",
    "    int_to_vocab  = {ii: word for ii, word in enumerate(vocab)}\n",
    "    return vocab_to_int, int_to_vocab\n",
    "\n",
    "\n",
    "\"\"\"\n",
    "DON'T MODIFY ANYTHING IN THIS CELL THAT IS BELOW THIS LINE\n",
    "\"\"\"\n",
    "tests.test_create_lookup_tables(create_lookup_tables)"
   ]
  },
  {
   "cell_type": "markdown",
   "metadata": {},
   "source": [
    "### Tokenize Punctuation\n",
    "We'll be splitting the script into a word array using spaces as delimiters.  However, punctuations like periods and exclamation marks make it hard for the neural network to distinguish between the word \"bye\" and \"bye!\".\n",
    "\n",
    "Implement the function `token_lookup` to return a dict that will be used to tokenize symbols like \"!\" into \"||Exclamation_Mark||\".  Create a dictionary for the following symbols where the symbol is the key and value is the token:\n",
    "- Period ( . )\n",
    "- Comma ( , )\n",
    "- Quotation Mark ( \" )\n",
    "- Semicolon ( ; )\n",
    "- Exclamation mark ( ! )\n",
    "- Question mark ( ? )\n",
    "- Left Parentheses ( ( )\n",
    "- Right Parentheses ( ) )\n",
    "- Dash ( -- )\n",
    "- Return ( \\n )\n",
    "\n",
    "This dictionary will be used to token the symbols and add the delimiter (space) around it.  This separates the symbols as it's own word, making it easier for the neural network to predict on the next word. Make sure you don't use a token that could be confused as a word. Instead of using the token \"dash\", try using something like \"||dash||\"."
   ]
  },
  {
   "cell_type": "code",
   "execution_count": 5,
   "metadata": {},
   "outputs": [
    {
     "name": "stdout",
     "output_type": "stream",
     "text": [
      "Tests Passed\n"
     ]
    }
   ],
   "source": [
    "def token_lookup():\n",
    "    \"\"\"\n",
    "    Generate a dict to turn punctuation into a token.\n",
    "    :return: Tokenize dictionary where the key is the punctuation and the value is the token\n",
    "    \"\"\"\n",
    "    punctuation = {}\n",
    "    punctuation.update({'.': '||Period||'})\n",
    "    punctuation.update({',': '||Comma||'})\n",
    "    punctuation.update({'\"': '||Quotation_Mark||'})\n",
    "    punctuation.update({';': '||Semicolon||'})\n",
    "    punctuation.update({'!': '||Exclamation_Mark||'})\n",
    "    punctuation.update({'?': '||Question_Mark||'})\n",
    "    punctuation.update({'(': '||Left_Parentheses||'})\n",
    "    punctuation.update({')': '||Right_Parentheses||'})\n",
    "    punctuation.update({'--': '||Dash||'})\n",
    "    punctuation.update({'\\n': '||Return||'})\n",
    "    return punctuation\n",
    "\n",
    "\"\"\"\n",
    "DON'T MODIFY ANYTHING IN THIS CELL THAT IS BELOW THIS LINE\n",
    "\"\"\"\n",
    "\n",
    "tests.test_tokenize(token_lookup)"
   ]
  },
  {
   "cell_type": "markdown",
   "metadata": {},
   "source": [
    "## Preprocess all the data and save it\n",
    "Running the code cell below will preprocess all the data and save it to file."
   ]
  },
  {
   "cell_type": "code",
   "execution_count": 6,
   "metadata": {
    "collapsed": true
   },
   "outputs": [],
   "source": [
    "\"\"\"\n",
    "DON'T MODIFY ANYTHING IN THIS CELL\n",
    "\"\"\"\n",
    "# Preprocess Training, Validation, and Testing Data\n",
    "#helper.preprocess_and_save_data('./data/simpsons/rawText.txt', token_lookup, create_lookup_tables)\n",
    "import pickle\n",
    "\n",
    "with io.open('./data/simpsons/rawText.txt', \"r\", encoding=\"utf-8\") as f:\n",
    "    text = f.read()\n",
    "    \n",
    "# Ignore notice, since we don't use it for analysing the data\n",
    "\n",
    "token_dict = token_lookup()\n",
    "for key, token in token_dict.items():\n",
    "    text = text.replace(key, ' {} '.format(token))\n",
    "\n",
    "text = text.lower()\n",
    "text = text.split()\n",
    "\n",
    "text = text[:int(len(text))]\n",
    "\n",
    "vocab_to_int, int_to_vocab = create_lookup_tables(text)\n",
    "int_text = [vocab_to_int[word] for word in text]\n",
    "pickle.dump((int_text, vocab_to_int, int_to_vocab, token_dict), open('preprocess.p', 'wb'))"
   ]
  },
  {
   "cell_type": "markdown",
   "metadata": {},
   "source": [
    "# Check Point\n",
    "This is your first checkpoint. If you ever decide to come back to this notebook or have to restart the notebook, you can start from here. The preprocessed data has been saved to disk."
   ]
  },
  {
   "cell_type": "code",
   "execution_count": 7,
   "metadata": {
    "collapsed": true
   },
   "outputs": [],
   "source": [
    "\"\"\"\n",
    "DON'T MODIFY ANYTHING IN THIS CELL\n",
    "\"\"\"\n",
    "import helper\n",
    "import numpy as np\n",
    "import problem_unittests as tests\n",
    "\n",
    "int_text, vocab_to_int, int_to_vocab, token_dict = pickle.load(open('preprocess.p', mode='rb'))"
   ]
  },
  {
   "cell_type": "markdown",
   "metadata": {},
   "source": [
    "## Build the Neural Network\n",
    "You'll build the components necessary to build a RNN by implementing the following functions below:\n",
    "- get_inputs\n",
    "- get_init_cell\n",
    "- get_embed\n",
    "- build_rnn\n",
    "- build_nn\n",
    "- get_batches\n",
    "\n",
    "### Check the Version of TensorFlow and Access to GPU"
   ]
  },
  {
   "cell_type": "code",
   "execution_count": 8,
   "metadata": {},
   "outputs": [
    {
     "name": "stdout",
     "output_type": "stream",
     "text": [
      "TensorFlow Version: 1.2.1\n",
      "Default GPU Device: /gpu:0\n"
     ]
    }
   ],
   "source": [
    "\"\"\"\n",
    "DON'T MODIFY ANYTHING IN THIS CELL\n",
    "\"\"\"\n",
    "from distutils.version import LooseVersion\n",
    "import warnings\n",
    "import tensorflow as tf\n",
    "\n",
    "# Check TensorFlow Version\n",
    "assert LooseVersion(tf.__version__) >= LooseVersion('1.0'), 'Please use TensorFlow version 1.0 or newer'\n",
    "print('TensorFlow Version: {}'.format(tf.__version__))\n",
    "\n",
    "# Check for a GPU\n",
    "if not tf.test.gpu_device_name():\n",
    "    warnings.warn('No GPU found. Please use a GPU to train your neural network.')\n",
    "else:\n",
    "    print('Default GPU Device: {}'.format(tf.test.gpu_device_name()))"
   ]
  },
  {
   "cell_type": "markdown",
   "metadata": {},
   "source": [
    "### Input\n",
    "Implement the `get_inputs()` function to create TF Placeholders for the Neural Network.  It should create the following placeholders:\n",
    "- Input text placeholder named \"input\" using the [TF Placeholder](https://www.tensorflow.org/api_docs/python/tf/placeholder) `name` parameter.\n",
    "- Targets placeholder\n",
    "- Learning Rate placeholder\n",
    "\n",
    "Return the placeholders in the following tuple `(Input, Targets, LearningRate)`"
   ]
  },
  {
   "cell_type": "code",
   "execution_count": 9,
   "metadata": {
    "collapsed": true
   },
   "outputs": [],
   "source": [
    "def get_inputs():\n",
    "    \"\"\"\n",
    "    Create TF Placeholders for input, targets, and learning rate.\n",
    "    :return: Tuple (input, targets, learning rate)\n",
    "    \"\"\"\n",
    "    with tf.name_scope('input'):\n",
    "        Input = tf.placeholder(tf.int32, [None, None], name=\"input\")\n",
    "        Targets = tf.placeholder(tf.int32, [None, None], name='targets')\n",
    "        LearningRate = tf.placeholder(tf.float32, name='learningrate')\n",
    "        batch_size = tf.placeholder(tf.int32, [None], name='batch_size')\n",
    "    # TODO: Implement Function\n",
    "    return Input, Targets, LearningRate, batch_size\n"
   ]
  },
  {
   "cell_type": "markdown",
   "metadata": {},
   "source": [
    "### Build RNN Cell and Initialize\n",
    "Stack one or more [`BasicLSTMCells`](https://www.tensorflow.org/api_docs/python/tf/contrib/rnn/BasicLSTMCell) in a [`MultiRNNCell`](https://www.tensorflow.org/api_docs/python/tf/contrib/rnn/MultiRNNCell).\n",
    "- The Rnn size should be set using `rnn_size`\n",
    "- Initalize Cell State using the MultiRNNCell's [`zero_state()`](https://www.tensorflow.org/api_docs/python/tf/contrib/rnn/MultiRNNCell#zero_state) function\n",
    "    - Apply the name \"initial_state\" to the initial state using [`tf.identity()`](https://www.tensorflow.org/api_docs/python/tf/identity)\n",
    "\n",
    "Return the cell and initial state in the following tuple `(Cell, InitialState)`"
   ]
  },
  {
   "cell_type": "code",
   "execution_count": 10,
   "metadata": {
    "collapsed": true
   },
   "outputs": [],
   "source": [
    "\n",
    "def get_init_cell(batch_size, rnn_size):\n",
    "    \"\"\"\n",
    "    Create an RNN Cell and initialize it.\n",
    "    :param batch_size: Size of batches\n",
    "    :param rnn_size: Size of RNNs\n",
    "    :return: Tuple (cell, initialize state)\n",
    "    \"\"\"\n",
    "    with tf.name_scope('int_cell'):\n",
    "\n",
    "        lstm1 = tf.contrib.rnn.BasicLSTMCell(rnn_size)\n",
    "        Cell = tf.contrib.rnn.MultiRNNCell(cells=[lstm1])\n",
    "\n",
    "        InitialState =  tf.identity(Cell.zero_state(batch_size, tf.float32), name='initial_state')\n",
    "    # TODO: Implement Function\n",
    "    return Cell, InitialState\n",
    "\n"
   ]
  },
  {
   "cell_type": "markdown",
   "metadata": {},
   "source": [
    "### Word Embedding\n",
    "Apply embedding to `input_data` using TensorFlow.  Return the embedded sequence."
   ]
  },
  {
   "cell_type": "code",
   "execution_count": 11,
   "metadata": {},
   "outputs": [
    {
     "name": "stdout",
     "output_type": "stream",
     "text": [
      "Tests Passed\n"
     ]
    }
   ],
   "source": [
    "def get_embed(input_data, vocab_size, embed_dim):\n",
    "    \"\"\"\n",
    "    Create embedding for <input_data>.\n",
    "    :param input_data: TF placeholder for text input.\n",
    "    :param vocab_size: Number of words in vocabulary.\n",
    "    :param embed_dim: Number of embedding dimensions\n",
    "    :return: Embedded input.\n",
    "    \"\"\"\n",
    "    with tf.name_scope('embeding'):\n",
    "        embedding = tf.Variable(tf.random_uniform((vocab_size, embed_dim), -1, 1))\n",
    "        embed = tf.nn.embedding_lookup(embedding, input_data, name=\"embeded\")\n",
    "    return embed\n",
    "\n",
    "\n",
    "\"\"\"\n",
    "DON'T MODIFY ANYTHING IN THIS CELL THAT IS BELOW THIS LINE\n",
    "\"\"\"\n",
    "tests.test_get_embed(get_embed)"
   ]
  },
  {
   "cell_type": "markdown",
   "metadata": {},
   "source": [
    "### Build RNN\n",
    "You created a RNN Cell in the `get_init_cell()` function.  Time to use the cell to create a RNN.\n",
    "- Build the RNN using the [`tf.nn.dynamic_rnn()`](https://www.tensorflow.org/api_docs/python/tf/nn/dynamic_rnn)\n",
    " - Apply the name \"final_state\" to the final state using [`tf.identity()`](https://www.tensorflow.org/api_docs/python/tf/identity)\n",
    "\n",
    "Return the outputs and final_state state in the following tuple `(Outputs, FinalState)` "
   ]
  },
  {
   "cell_type": "code",
   "execution_count": 12,
   "metadata": {},
   "outputs": [
    {
     "name": "stdout",
     "output_type": "stream",
     "text": [
      "Tests Passed\n"
     ]
    }
   ],
   "source": [
    "def build_rnn(cell, inputs):\n",
    "    \"\"\"\n",
    "    Create a RNN using a RNN Cell\n",
    "    :param cell: RNN Cell\n",
    "    :param inputs: Input text data\n",
    "    :return: Tuple (Outputs, Final State)\n",
    "    \"\"\"\n",
    "    # TODO: Implement Function\n",
    "    outputs, final_state = tf.nn.dynamic_rnn(cell, inputs,dtype=tf.float32)\n",
    "    final_state = tf.identity(final_state, \"final_state\")\n",
    "    return outputs, final_state\n",
    "\n",
    "\n",
    "\"\"\"\n",
    "DON'T MODIFY ANYTHING IN THIS CELL THAT IS BELOW THIS LINE\n",
    "\"\"\"\n",
    "tests.test_build_rnn(build_rnn)"
   ]
  },
  {
   "cell_type": "markdown",
   "metadata": {},
   "source": [
    "### Build the Neural Network\n",
    "Apply the functions you implemented above to:\n",
    "- Apply embedding to `input_data` using your `get_embed(input_data, vocab_size, embed_dim)` function.\n",
    "- Build RNN using `cell` and your `build_rnn(cell, inputs)` function.\n",
    "- Apply a fully connected layer with a linear activation and `vocab_size` as the number of outputs.\n",
    "\n",
    "Return the logits and final state in the following tuple (Logits, FinalState) "
   ]
  },
  {
   "cell_type": "code",
   "execution_count": 13,
   "metadata": {},
   "outputs": [
    {
     "name": "stdout",
     "output_type": "stream",
     "text": [
      "Tests Passed\n"
     ]
    }
   ],
   "source": [
    "def build_nn(cell, rnn_size, input_data, vocab_size, embed_dim):\n",
    "    \"\"\"\n",
    "    Build part of the neural network\n",
    "    :param cell: RNN cell\n",
    "    :param rnn_size: Size of rnns\n",
    "    :param input_data: Input data\n",
    "    :param vocab_size: Vocabulary size\n",
    "    :param embed_dim: Number of embedding dimensions\n",
    "    :return: Tuple (Logits, FinalState)\n",
    "    \"\"\"\n",
    "    # TODO: Implement Function\n",
    "    embeded=get_embed(input_data, vocab_size, embed_dim)\n",
    "    outputs, final_state = build_rnn(cell, embeded)\n",
    "    with tf.name_scope('logits'):\n",
    "        logits = tf.contrib.layers.fully_connected(outputs, vocab_size, activation_fn=None)\n",
    "    return logits, final_state\n",
    "\n",
    "\n",
    "\"\"\"\n",
    "DON'T MODIFY ANYTHING IN THIS CELL THAT IS BELOW THIS LINE\n",
    "\"\"\"\n",
    "tests.test_build_nn(build_nn)"
   ]
  },
  {
   "cell_type": "markdown",
   "metadata": {},
   "source": [
    "### Batches\n",
    "Implement `get_batches` to create batches of input and targets using `int_text`.  The batches should be a Numpy array with the shape `(number of batches, 2, batch size, sequence length)`. Each batch contains two elements:\n",
    "- The first element is a single batch of **input** with the shape `[batch size, sequence length]`\n",
    "- The second element is a single batch of **targets** with the shape `[batch size, sequence length]`\n",
    "\n",
    "If you can't fill the last batch with enough data, drop the last batch.\n",
    "\n",
    "For exmple, `get_batches([1, 2, 3, 4, 5, 6, 7, 8, 9, 10, 11, 12, 13, 14, 15, 16, 17, 18, 19, 20], 3, 2)` would return a Numpy array of the following:\n",
    "```\n",
    "[\n",
    "  # First Batch\n",
    "  [\n",
    "    # Batch of Input\n",
    "    [[ 1  2], [ 7  8], [13 14]]\n",
    "    # Batch of targets\n",
    "    [[ 2  3], [ 8  9], [14 15]]\n",
    "  ]\n",
    "\n",
    "  # Second Batch\n",
    "  [\n",
    "    # Batch of Input\n",
    "    [[ 3  4], [ 9 10], [15 16]]\n",
    "    # Batch of targets\n",
    "    [[ 4  5], [10 11], [16 17]]\n",
    "  ]\n",
    "\n",
    "  # Third Batch\n",
    "  [\n",
    "    # Batch of Input\n",
    "    [[ 5  6], [11 12], [17 18]]\n",
    "    # Batch of targets\n",
    "    [[ 6  7], [12 13], [18  1]]\n",
    "  ]\n",
    "]\n",
    "```\n",
    "\n",
    "Notice that the last target value in the last batch is the first input value of the first batch. In this case, `1`. This is a common technique used when creating sequence batches, although it is rather unintuitive."
   ]
  },
  {
   "cell_type": "code",
   "execution_count": 14,
   "metadata": {},
   "outputs": [
    {
     "name": "stdout",
     "output_type": "stream",
     "text": [
      "Tests Passed\n"
     ]
    }
   ],
   "source": [
    "def get_batches(int_text, batch_size, seq_length):\n",
    "    \"\"\"\n",
    "    Return batches of input and target\n",
    "    :param int_text: Text with the words replaced by their ids\n",
    "    :param batch_size: The size of batch\n",
    "    :param seq_length: The length of sequence\n",
    "    :return: Bbatch_sizeatches as a Numpy array\n",
    "    \"\"\"\n",
    "    n_batches = int(len(int_text)/(batch_size * seq_length))\n",
    "    inputs  = np.array(int_text[:n_batches*batch_size*seq_length])\n",
    "    targets = np.array(int_text[1:n_batches*batch_size*seq_length+1])\n",
    "    targets[-1]=inputs[0]\n",
    "        \n",
    "    inputs  = np.split(inputs.reshape(batch_size,-1), n_batches,1)\n",
    "    targets = np.split(targets.reshape(batch_size,-1), n_batches,1)\n",
    "        \n",
    "    return np.array(list(zip(inputs, targets)))\n",
    "\n",
    "\n",
    "\"\"\"\n",
    "DON'T MODIFY ANYTHING IN THIS CELL THAT IS BELOW THIS LINE\n",
    "\"\"\"\n",
    "tests.test_get_batches(get_batches)"
   ]
  },
  {
   "cell_type": "markdown",
   "metadata": {},
   "source": [
    "## Neural Network Training\n",
    "### Hyperparameters\n",
    "Tune the following parameters:\n",
    "\n",
    "- Set `num_epochs` to the number of epochs.\n",
    "- Set `batch_size` to the batch size.\n",
    "- Set `rnn_size` to the size of the RNNs.\n",
    "- Set `embed_dim` to the size of the embedding.\n",
    "- Set `seq_length` to the length of sequence.\n",
    "- Set `learning_rate` to the learning rate.\n",
    "- Set `show_every_n_batches` to the number of batches the neural network should print progress."
   ]
  },
  {
   "cell_type": "code",
   "execution_count": 15,
   "metadata": {
    "collapsed": true
   },
   "outputs": [],
   "source": [
    "# Number of Epochs\n",
    "num_epochs = 10\n",
    "# Batch Size\n",
    "batch_size_dim = 64\n",
    "# RNN Size\n",
    "rnn_size_dim = [1200]\n",
    "#[800,1200]\n",
    "# Embedding Dimension Size\n",
    "embed_dim = [1300]\n",
    "# [900,1300]\n",
    "# Sequence Length\n",
    "seq_length = 15\n",
    "# Learning Rate\n",
    "learning_rate_dim = [0.001]\n",
    "#[0.01,0.05,0.001,0.005,0.0005,0.0001]\n",
    "# Show stats for every n number of batches\n",
    "show_every_n_batches = 265\n",
    "\n",
    "\"\"\"\n",
    "DON'T MODIFY ANYTHING IN THIS CELL THAT IS BELOW THIS LINE\n",
    "\"\"\"\n",
    "save_dir = './save'"
   ]
  },
  {
   "cell_type": "markdown",
   "metadata": {},
   "source": [
    "### Build the Graph\n",
    "Build the graph using the neural network you implemented."
   ]
  },
  {
   "cell_type": "code",
   "execution_count": 16,
   "metadata": {
    "collapsed": true
   },
   "outputs": [],
   "source": [
    "\"\"\"\n",
    "DON'T MODIFY ANYTHING IN THIS CELL\n",
    "\"\"\"\n",
    "from tensorflow.contrib import seq2seq\n",
    "def initializeNetwork(rnn_size,embed_dim):\n",
    "    with train_graph.as_default():\n",
    "        vocab_size = len(int_to_vocab)\n",
    "        input_text, targets, lr, batch_size = get_inputs()\n",
    "        input_data_shape = tf.shape(input_text)\n",
    "        cell, initial_state = get_init_cell(batch_size, rnn_size)\n",
    "        logits, final_state = build_nn(cell, rnn_size, input_text, vocab_size, embed_dim)\n",
    "\n",
    "        # Probabilities for generating words\n",
    "        probs = tf.nn.softmax(logits, name='probs')\n",
    "        tf.summary.histogram('probs',probs)\n",
    "\n",
    "        # Loss function\n",
    "        cost = seq2seq.sequence_loss(\n",
    "            logits,\n",
    "            targets,\n",
    "            tf.ones([input_data_shape[0], input_data_shape[1]]), name=\"cost\")\n",
    "        tf.summary.scalar('cost',cost)\n",
    "        # Optimizer\n",
    "        optimizer = tf.train.AdamOptimizer(lr, name='optimizer')\n",
    "\n",
    "        merged = tf.summary.merge_all()\n",
    "        # Gradient Clipping\n",
    "        gradients = optimizer.compute_gradients(cost)\n",
    "        capped_gradients = [(tf.clip_by_value(grad, -1., 1.), var) for grad, var in gradients if grad is not None]\n",
    "        train_op = optimizer.apply_gradients(capped_gradients)\n",
    "    return initial_state, batch_size, merged, input_text, targets, lr, cost, final_state, train_op"
   ]
  },
  {
   "cell_type": "markdown",
   "metadata": {},
   "source": [
    "## Train\n",
    "Train the neural network on the preprocessed data.  If you have a hard time getting a good loss, check the [forms](https://discussions.udacity.com/) to see if anyone is having the same problem."
   ]
  },
  {
   "cell_type": "code",
   "execution_count": 34,
   "metadata": {
    "scrolled": true
   },
   "outputs": [
    {
     "name": "stdout",
     "output_type": "stream",
     "text": [
      "[0.001]\n",
      "0.001\n",
      "Epoch   0 Batch    0/2674  train_loss = 10.922 1.3716 sec/batch\n",
      "Epoch   0 Batch  265/2674  train_loss = 5.035 2.0203 sec/batch\n",
      "Epoch   0 Batch  530/2674  train_loss = 4.680 2.1227 sec/batch\n",
      "Epoch   0 Batch  795/2674  train_loss = 4.412 2.1998 sec/batch\n",
      "Epoch   0 Batch 1060/2674  train_loss = 4.207 2.2600 sec/batch\n",
      "Epoch   0 Batch 1325/2674  train_loss = 4.329 2.3272 sec/batch\n",
      "Epoch   0 Batch 1590/2674  train_loss = 4.189 2.3623 sec/batch\n",
      "Epoch   0 Batch 1855/2674  train_loss = 3.906 2.3944 sec/batch\n",
      "Epoch   0 Batch 2120/2674  train_loss = 3.989 2.4084 sec/batch\n",
      "Epoch   0 Batch 2385/2674  train_loss = 4.209 2.4475 sec/batch\n",
      "Epoch   0 Batch 2650/2674  train_loss = 3.851 2.4465 sec/batch\n",
      "Epoch   1 Batch  241/2674  train_loss = 3.856 2.5057 sec/batch\n",
      "Epoch   1 Batch  506/2674  train_loss = 3.669 2.5127 sec/batch\n",
      "Epoch   1 Batch  771/2674  train_loss = 3.827 2.5187 sec/batch\n",
      "Epoch   1 Batch 1036/2674  train_loss = 3.541 2.5027 sec/batch\n",
      "Epoch   1 Batch 1301/2674  train_loss = 3.384 2.4806 sec/batch\n",
      "Epoch   1 Batch 1566/2674  train_loss = 3.477 2.5107 sec/batch\n",
      "Epoch   1 Batch 1831/2674  train_loss = 3.511 2.5087 sec/batch\n",
      "Epoch   1 Batch 2096/2674  train_loss = 3.779 2.5367 sec/batch\n",
      "Epoch   1 Batch 2361/2674  train_loss = 3.558 2.5237 sec/batch\n",
      "Epoch   1 Batch 2626/2674  train_loss = 3.241 2.5087 sec/batch\n",
      "Epoch   2 Batch  217/2674  train_loss = 3.301 2.5407 sec/batch\n",
      "Epoch   2 Batch  482/2674  train_loss = 3.396 2.5127 sec/batch\n",
      "Epoch   2 Batch  747/2674  train_loss = 3.383 2.5388 sec/batch\n",
      "Epoch   2 Batch 1012/2674  train_loss = 3.117 2.5037 sec/batch\n",
      "Epoch   2 Batch 1277/2674  train_loss = 3.087 2.4946 sec/batch\n",
      "Epoch   2 Batch 1542/2674  train_loss = 3.117 2.5388 sec/batch\n",
      "Epoch   2 Batch 1807/2674  train_loss = 3.133 2.5377 sec/batch\n",
      "Epoch   2 Batch 2072/2674  train_loss = 3.090 2.5217 sec/batch\n",
      "Epoch   2 Batch 2337/2674  train_loss = 2.943 2.4906 sec/batch\n",
      "Epoch   2 Batch 2602/2674  train_loss = 3.043 2.5418 sec/batch\n",
      "Epoch   3 Batch  193/2674  train_loss = 2.976 2.5197 sec/batch\n",
      "Epoch   3 Batch  458/2674  train_loss = 3.086 2.4977 sec/batch\n",
      "Epoch   3 Batch  723/2674  train_loss = 3.010 2.4605 sec/batch\n",
      "Epoch   3 Batch  988/2674  train_loss = 2.713 2.4194 sec/batch\n",
      "Epoch   3 Batch 1253/2674  train_loss = 2.671 2.3874 sec/batch\n",
      "Epoch   3 Batch 1518/2674  train_loss = 2.756 2.4395 sec/batch\n",
      "Epoch   3 Batch 1783/2674  train_loss = 2.710 2.4234 sec/batch\n",
      "Epoch   3 Batch 2048/2674  train_loss = 2.713 2.4505 sec/batch\n",
      "Epoch   3 Batch 2313/2674  train_loss = 2.762 2.4385 sec/batch\n",
      "Epoch   3 Batch 2578/2674  train_loss = 2.635 2.4365 sec/batch\n",
      "Epoch   4 Batch  169/2674  train_loss = 2.570 2.4244 sec/batch\n",
      "Epoch   4 Batch  434/2674  train_loss = 2.662 2.3723 sec/batch\n",
      "Epoch   4 Batch  699/2674  train_loss = 2.618 2.3763 sec/batch\n",
      "Epoch   4 Batch  964/2674  train_loss = 2.604 2.3272 sec/batch\n",
      "Epoch   4 Batch 1229/2674  train_loss = 2.432 2.3051 sec/batch\n",
      "Epoch   4 Batch 1494/2674  train_loss = 2.422 2.3111 sec/batch\n",
      "Epoch   4 Batch 1759/2674  train_loss = 2.396 2.3172 sec/batch\n",
      "Epoch   4 Batch 2024/2674  train_loss = 2.304 2.2790 sec/batch\n",
      "Epoch   4 Batch 2289/2674  train_loss = 2.434 2.3221 sec/batch\n",
      "Epoch   4 Batch 2554/2674  train_loss = 2.284 2.3603 sec/batch\n",
      "Epoch   5 Batch  145/2674  train_loss = 2.408 2.3783 sec/batch\n",
      "Epoch   5 Batch  410/2674  train_loss = 2.333 2.2771 sec/batch\n",
      "Epoch   5 Batch  675/2674  train_loss = 2.262 2.2479 sec/batch\n",
      "Epoch   5 Batch  940/2674  train_loss = 2.339 2.2149 sec/batch\n",
      "Epoch   5 Batch 1205/2674  train_loss = 2.173 2.1988 sec/batch\n",
      "Epoch   5 Batch 1470/2674  train_loss = 2.205 2.2049 sec/batch\n",
      "Epoch   5 Batch 1735/2674  train_loss = 2.266 2.2600 sec/batch\n",
      "Epoch   5 Batch 2000/2674  train_loss = 2.171 2.2279 sec/batch\n",
      "Epoch   5 Batch 2265/2674  train_loss = 2.153 2.2309 sec/batch\n",
      "Epoch   5 Batch 2530/2674  train_loss = 2.134 2.2590 sec/batch\n",
      "Epoch   6 Batch  121/2674  train_loss = 2.097 2.2560 sec/batch\n",
      "Epoch   6 Batch  386/2674  train_loss = 2.292 2.1948 sec/batch\n",
      "Epoch   6 Batch  651/2674  train_loss = 2.216 2.1326 sec/batch\n",
      "Epoch   6 Batch  916/2674  train_loss = 2.156 2.1427 sec/batch\n",
      "Epoch   6 Batch 1181/2674  train_loss = 2.020 2.1447 sec/batch\n",
      "Epoch   6 Batch 1446/2674  train_loss = 2.132 2.1377 sec/batch\n",
      "Epoch   6 Batch 1711/2674  train_loss = 2.018 2.1056 sec/batch\n",
      "Epoch   6 Batch 1976/2674  train_loss = 1.905 2.1026 sec/batch\n",
      "Epoch   6 Batch 2241/2674  train_loss = 1.909 2.1427 sec/batch\n",
      "Epoch   6 Batch 2506/2674  train_loss = 1.923 2.1316 sec/batch\n",
      "Epoch   7 Batch   97/2674  train_loss = 2.102 2.1858 sec/batch\n",
      "Epoch   7 Batch  362/2674  train_loss = 2.003 2.1086 sec/batch\n",
      "Epoch   7 Batch  627/2674  train_loss = 1.830 2.0505 sec/batch\n",
      "Epoch   7 Batch  892/2674  train_loss = 1.891 2.0524 sec/batch\n",
      "Epoch   7 Batch 1157/2674  train_loss = 2.037 2.0535 sec/batch\n",
      "Epoch   7 Batch 1422/2674  train_loss = 1.825 2.0334 sec/batch\n",
      "Epoch   7 Batch 1687/2674  train_loss = 1.829 2.0204 sec/batch\n",
      "Epoch   7 Batch 1952/2674  train_loss = 1.941 2.0535 sec/batch\n",
      "Epoch   7 Batch 2217/2674  train_loss = 1.749 2.0294 sec/batch\n",
      "Epoch   7 Batch 2482/2674  train_loss = 1.868 2.0875 sec/batch\n",
      "Epoch   8 Batch   73/2674  train_loss = 1.772 2.1377 sec/batch\n",
      "Epoch   8 Batch  338/2674  train_loss = 1.918 2.0264 sec/batch\n",
      "Epoch   8 Batch  603/2674  train_loss = 1.767 1.9642 sec/batch\n",
      "Epoch   8 Batch  868/2674  train_loss = 1.760 1.9502 sec/batch\n",
      "Epoch   8 Batch 1133/2674  train_loss = 1.729 1.9492 sec/batch\n",
      "Epoch   8 Batch 1398/2674  train_loss = 1.903 1.9793 sec/batch\n",
      "Epoch   8 Batch 1663/2674  train_loss = 1.763 1.9412 sec/batch\n",
      "Epoch   8 Batch 1928/2674  train_loss = 1.646 1.9592 sec/batch\n",
      "Epoch   8 Batch 2193/2674  train_loss = 1.749 2.0023 sec/batch\n",
      "Epoch   8 Batch 2458/2674  train_loss = 1.690 1.9782 sec/batch\n",
      "Epoch   9 Batch   49/2674  train_loss = 1.782 2.0234 sec/batch\n",
      "Epoch   9 Batch  314/2674  train_loss = 1.743 1.9552 sec/batch\n",
      "Epoch   9 Batch  579/2674  train_loss = 1.723 1.9171 sec/batch\n",
      "Epoch   9 Batch  844/2674  train_loss = 1.769 1.9341 sec/batch\n",
      "Epoch   9 Batch 1109/2674  train_loss = 1.739 1.9291 sec/batch\n",
      "Epoch   9 Batch 1374/2674  train_loss = 1.811 1.9111 sec/batch\n",
      "Epoch   9 Batch 1639/2674  train_loss = 1.676 1.9060 sec/batch\n",
      "Epoch   9 Batch 1904/2674  train_loss = 1.598 1.9151 sec/batch\n",
      "Epoch   9 Batch 2169/2674  train_loss = 1.587 1.9181 sec/batch\n",
      "Epoch   9 Batch 2434/2674  train_loss = 1.665 1.9532 sec/batch\n",
      "Model Trained and Saved\n"
     ]
    }
   ],
   "source": [
    "import time\n",
    "\n",
    "\n",
    "\n",
    "for lrr in learning_rate_dim:\n",
    "    print(learning_rate_dim)\n",
    "    print(lrr)\n",
    "    for rs in rnn_size_dim:\n",
    "         for ed in embed_dim: \n",
    "            \n",
    "            train_graph = tf.Graph()\n",
    "            initial_state, batch_size, merged, input_text, targets, lr, cost, final_state, train_op=initializeNetwork(rs,ed)\n",
    "            batches = get_batches(int_text, batch_size_dim, seq_length)\n",
    "            path= 'train/LR_{}-RNS_{:.2f}-ED_{:.3f}'.format(lrr, rs, ed)\n",
    "            with tf.Session(graph=train_graph) as sess:\n",
    "                sess.run(tf.global_variables_initializer())\n",
    "                train_writer = tf.summary.FileWriter(path,sess.graph)\n",
    "                train_writer.add_graph(sess.graph)\n",
    "                for epoch_i in range(num_epochs):\n",
    "                    state = sess.run(initial_state, {batch_size: batches[0][0].shape})\n",
    "                  \n",
    "                    for batch_i, (x, y) in enumerate(batches):\n",
    "                        start = time.time()\n",
    "                        feed = {\n",
    "                            input_text: x,\n",
    "                            targets: y,\n",
    "                            initial_state: state,\n",
    "                            lr: lrr}\n",
    "                        summary, train_loss, state, _ = sess.run([merged,cost, final_state, train_op], feed)\n",
    "                        end = time.time()\n",
    "                        # Show every <show_every_n_batches> batches\n",
    "                        if (epoch_i * len(batches) + batch_i) % show_every_n_batches == 0:\n",
    "                                 print('Epoch {:>3} Batch {:>4}/{}  train_loss = {:.3f} {:.4f} sec/batch'.format(\n",
    "                                epoch_i,   \n",
    "                                batch_i,\n",
    "                                len(batches),\n",
    "                                train_loss,\n",
    "                                (end-start)))\n",
    "                train_writer.add_summary(summary, batch_i) \n",
    "    \n",
    "    \n",
    "    \n",
    "    \n",
    "    train_writer.close()\n",
    "    print('Model Trained and Saved')\n"
   ]
  },
  {
   "cell_type": "markdown",
   "metadata": {},
   "source": [
    "## Save Parameters\n",
    "Save `seq_length` and `save_dir` for generating a new TV script."
   ]
  },
  {
   "cell_type": "code",
   "execution_count": 17,
   "metadata": {
    "collapsed": true
   },
   "outputs": [],
   "source": [
    "\"\"\"\n",
    "DON'T MODIFY ANYTHING IN THIS CELL\n",
    "\"\"\"\n",
    "# Save parameters for checkpoint\n",
    "helper.save_params((seq_length, save_dir))"
   ]
  },
  {
   "cell_type": "markdown",
   "metadata": {},
   "source": [
    "# Checkpoint"
   ]
  },
  {
   "cell_type": "code",
   "execution_count": 18,
   "metadata": {
    "collapsed": true
   },
   "outputs": [],
   "source": [
    "\"\"\"\n",
    "DON'T MODIFY ANYTHING IN THIS CELL\n",
    "\"\"\"\n",
    "import tensorflow as tf\n",
    "import numpy as np\n",
    "import helper\n",
    "import problem_unittests as tests\n",
    "\n",
    "_, vocab_to_int, int_to_vocab, token_dict = helper.load_preprocess()\n",
    "seq_length, load_dir = helper.load_params()"
   ]
  },
  {
   "cell_type": "markdown",
   "metadata": {},
   "source": [
    "## Implement Generate Functions\n",
    "### Get Tensors\n",
    "Get tensors from `loaded_graph` using the function [`get_tensor_by_name()`](https://www.tensorflow.org/api_docs/python/tf/Graph#get_tensor_by_name).  Get the tensors using the following names:\n",
    "- \"input:0\"\n",
    "- \"initial_state:0\"\n",
    "- \"final_state:0\"\n",
    "- \"probs:0\"\n",
    "\n",
    "Return the tensors in the following tuple `(InputTensor, InitialStateTensor, FinalStateTensor, ProbsTensor)` "
   ]
  },
  {
   "cell_type": "code",
   "execution_count": 19,
   "metadata": {
    "collapsed": true
   },
   "outputs": [],
   "source": [
    "def get_tensors(loaded_graph):\n",
    "    \"\"\"\n",
    "    Get input, initial state, final state, and probabilities tensor from <loaded_graph>\n",
    "    :param loaded_graph: TensorFlow graph loaded from file\n",
    "    :return: Tuple (InputTensor, InitialStateTensor, FinalStateTensor, ProbsTensor)\n",
    "    \"\"\"\n",
    "    # TODO: Implement Function\n",
    "    input_text = tf.Graph.get_tensor_by_name(loaded_graph,name=\"input/input:0\")\n",
    "    initial_state = tf.Graph.get_tensor_by_name(loaded_graph,name=\"int_cell/initial_state:0\")\n",
    "    final_state = tf.Graph.get_tensor_by_name(loaded_graph,name=\"final_state:0\")\n",
    "    probs = tf.Graph.get_tensor_by_name(loaded_graph,name=\"probs:0\")\n",
    "    batch_size = tf.Graph.get_tensor_by_name(loaded_graph,name=\"input/batch_size:0\")\n",
    "    return  input_text, initial_state, final_state, probs, batch_size\n",
    "\n"
   ]
  },
  {
   "cell_type": "markdown",
   "metadata": {},
   "source": [
    "### Choose Word\n",
    "Implement the `pick_word()` function to select the next word using `probabilities`."
   ]
  },
  {
   "cell_type": "code",
   "execution_count": 21,
   "metadata": {},
   "outputs": [
    {
     "name": "stdout",
     "output_type": "stream",
     "text": [
      "Tests Passed\n"
     ]
    }
   ],
   "source": [
    "def pick_word(probabilities, int_to_vocab):\n",
    "    \"\"\"\n",
    "    Pick the next word in the generated text\n",
    "    :param probabilities: Probabilites of the next word\n",
    "    :param int_to_vocab: Dictionary of word ids as the keys and words as the values\n",
    "    :return: String of the predicted word\n",
    "    \"\"\"\n",
    "    \n",
    "    return np.random.choice(list(int_to_vocab.values()),p=probabilities)\n",
    "\n",
    "\n",
    "\"\"\"\n",
    "DON'T MODIFY ANYTHING IN THIS CELL THAT IS BELOW THIS LINE\n",
    "\"\"\"\n",
    "tests.test_pick_word(pick_word)"
   ]
  },
  {
   "cell_type": "markdown",
   "metadata": {},
   "source": [
    "## Generate TV Script\n",
    "This will generate the TV script for you.  Set `gen_length` to the length of TV script you want to generate."
   ]
  },
  {
   "cell_type": "code",
   "execution_count": 24,
   "metadata": {},
   "outputs": [
    {
     "name": "stdout",
     "output_type": "stream",
     "text": [
      "INFO:tensorflow:Restoring parameters from ./save\n"
     ]
    },
    {
     "ename": "ValueError",
     "evalue": "a and p must have same size",
     "output_type": "error",
     "traceback": [
      "\u001b[1;31m---------------------------------------------------------------------------\u001b[0m",
      "\u001b[1;31mValueError\u001b[0m                                Traceback (most recent call last)",
      "\u001b[1;32m<ipython-input-24-ba0b7d42646c>\u001b[0m in \u001b[0;36m<module>\u001b[1;34m()\u001b[0m\n\u001b[0;32m     34\u001b[0m         \u001b[0mtemp\u001b[0m \u001b[1;33m=\u001b[0m \u001b[0mtemp\u001b[0m\u001b[1;33m[\u001b[0m\u001b[0mdyn_seq_length\u001b[0m \u001b[1;33m-\u001b[0m \u001b[1;36m1\u001b[0m\u001b[1;33m]\u001b[0m\u001b[1;33m\u001b[0m\u001b[0m\n\u001b[0;32m     35\u001b[0m \u001b[1;33m\u001b[0m\u001b[0m\n\u001b[1;32m---> 36\u001b[1;33m         \u001b[0mpred_word\u001b[0m \u001b[1;33m=\u001b[0m \u001b[0mpick_word\u001b[0m\u001b[1;33m(\u001b[0m\u001b[0mtemp\u001b[0m\u001b[1;33m,\u001b[0m \u001b[0mint_to_vocab\u001b[0m\u001b[1;33m)\u001b[0m\u001b[1;33m\u001b[0m\u001b[0m\n\u001b[0m\u001b[0;32m     37\u001b[0m         \u001b[0mgen_sentences\u001b[0m\u001b[1;33m.\u001b[0m\u001b[0mappend\u001b[0m\u001b[1;33m(\u001b[0m\u001b[0mpred_word\u001b[0m\u001b[1;33m)\u001b[0m\u001b[1;33m\u001b[0m\u001b[0m\n\u001b[0;32m     38\u001b[0m \u001b[1;33m\u001b[0m\u001b[0m\n",
      "\u001b[1;32m<ipython-input-21-1af20718a99f>\u001b[0m in \u001b[0;36mpick_word\u001b[1;34m(probabilities, int_to_vocab)\u001b[0m\n\u001b[0;32m      7\u001b[0m     \"\"\"\n\u001b[0;32m      8\u001b[0m \u001b[1;33m\u001b[0m\u001b[0m\n\u001b[1;32m----> 9\u001b[1;33m     \u001b[1;32mreturn\u001b[0m \u001b[0mnp\u001b[0m\u001b[1;33m.\u001b[0m\u001b[0mrandom\u001b[0m\u001b[1;33m.\u001b[0m\u001b[0mchoice\u001b[0m\u001b[1;33m(\u001b[0m\u001b[0mlist\u001b[0m\u001b[1;33m(\u001b[0m\u001b[0mint_to_vocab\u001b[0m\u001b[1;33m.\u001b[0m\u001b[0mvalues\u001b[0m\u001b[1;33m(\u001b[0m\u001b[1;33m)\u001b[0m\u001b[1;33m)\u001b[0m\u001b[1;33m,\u001b[0m\u001b[0mp\u001b[0m\u001b[1;33m=\u001b[0m\u001b[0mprobabilities\u001b[0m\u001b[1;33m)\u001b[0m\u001b[1;33m\u001b[0m\u001b[0m\n\u001b[0m\u001b[0;32m     10\u001b[0m \u001b[1;33m\u001b[0m\u001b[0m\n\u001b[0;32m     11\u001b[0m \u001b[1;33m\u001b[0m\u001b[0m\n",
      "\u001b[1;32mmtrand.pyx\u001b[0m in \u001b[0;36mmtrand.RandomState.choice (numpy\\random\\mtrand\\mtrand.c:17683)\u001b[1;34m()\u001b[0m\n",
      "\u001b[1;31mValueError\u001b[0m: a and p must have same size"
     ]
    }
   ],
   "source": [
    "gen_length = 400\n",
    "# homer_simpson, moe_szyslak, or Barney_Gumble\n",
    "prime_word = 'homer'\n",
    "\n",
    "\"\"\"\n",
    "DON'T MODIFY ANYTHING IN THIS CELL THAT IS BELOW THIS LINE\n",
    "\"\"\"\n",
    "loaded_graph = tf.Graph()\n",
    "\n",
    "with tf.Session(graph=loaded_graph) as sess:\n",
    "    # Load saved model\n",
    "    loader = tf.train.import_meta_graph(load_dir + '.meta')\n",
    "    loader.restore(sess, load_dir)\n",
    "\n",
    "    # Get Tensors from loaded model\n",
    "    input_text, initial_state, final_state, probs, batch_size = get_tensors(loaded_graph)\n",
    "\n",
    "    # Sentences generation setup\n",
    "    gen_sentences = [prime_word + ':']\n",
    "    prev_state = sess.run(initial_state, {input_text: np.array([[1]]), batch_size: np.array([64])})\n",
    "    # Generate sentences\n",
    "    for n in range(gen_length):\n",
    "        \n",
    "        # Dynamic Input\n",
    "        dyn_input = [[vocab_to_int[word] for word in gen_sentences[-seq_length:]]]\n",
    "        dyn_seq_length = len(dyn_input[0])\n",
    " \n",
    "        probabilities, prev_state = sess.run(\n",
    "            [probs, final_state],\n",
    "            {input_text: dyn_input, initial_state: prev_state})\n",
    "\n",
    "\n",
    "        temp = np.squeeze(probabilities, axis=0)\n",
    "        temp = temp[dyn_seq_length - 1]\n",
    "        \n",
    "        pred_word = pick_word(temp, int_to_vocab)\n",
    "        gen_sentences.append(pred_word)\n",
    "    \n",
    "    # Remove tokens\n",
    "    tv_script = ' '.join(gen_sentences)\n",
    "    for key, token in token_dict.items():\n",
    "        ending = ' ' if key in ['\\n', '(', '\"'] else ''\n",
    "        tv_script = tv_script.replace(' ' + token.lower(), key)\n",
    "    tv_script = tv_script.replace('\\n ', '\\n')\n",
    "    tv_script = tv_script.replace('( ', '(')\n",
    "        \n",
    "    print(tv_script)"
   ]
  },
  {
   "cell_type": "markdown",
   "metadata": {},
   "source": [
    "# The TV Script is Nonsensical\n",
    "It's ok if the TV script doesn't make any sense.  We trained on less than a megabyte of text.  In order to get good results, you'll have to use a smaller vocabulary or get more data.  Luckly there's more data!  As we mentioned in the begging of this project, this is a subset of [another dataset](https://www.kaggle.com/wcukierski/the-simpsons-by-the-data).  We didn't have you train on all the data, because that would take too long.  However, you are free to train your neural network on all the data.  After you complete the project, of course.\n",
    "# Submitting This Project\n",
    "When submitting this project, make sure to run all the cells before saving the notebook. Save the notebook file as \"dlnd_tv_script_generation.ipynb\" and save it as a HTML file under \"File\" -> \"Download as\". Include the \"helper.py\" and \"problem_unittests.py\" files in your submission."
   ]
  }
 ],
 "metadata": {
  "kernelspec": {
   "display_name": "Python 3",
   "language": "python",
   "name": "python3"
  },
  "language_info": {
   "codemirror_mode": {
    "name": "ipython",
    "version": 3
   },
   "file_extension": ".py",
   "mimetype": "text/x-python",
   "name": "python",
   "nbconvert_exporter": "python",
   "pygments_lexer": "ipython3",
   "version": "3.5.2"
  },
  "widgets": {
   "state": {},
   "version": "1.1.2"
  }
 },
 "nbformat": 4,
 "nbformat_minor": 1
}
